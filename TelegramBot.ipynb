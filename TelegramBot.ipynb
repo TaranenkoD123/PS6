{
  "nbformat": 4,
  "nbformat_minor": 0,
  "metadata": {
    "colab": {
      "provenance": []
    },
    "kernelspec": {
      "name": "python3",
      "display_name": "Python 3"
    },
    "language_info": {
      "name": "python"
    }
  },
  "cells": [
    {
      "cell_type": "markdown",
      "source": [
        "# Настройки"
      ],
      "metadata": {
        "id": "JEeqTK7Mq8cp"
      }
    },
    {
      "cell_type": "code",
      "source": [
        "API_KEY = '5854112341:AAFRlN12UK2_K57VE6P5Crc-1mcsuYKsS40'"
      ],
      "metadata": {
        "id": "XwUXILp9F68-"
      },
      "execution_count": null,
      "outputs": []
    },
    {
      "cell_type": "code",
      "source": [
        "POST_URLS = {\n",
        "    'Fantasy Name' : 'https://randomall.ru/api/general/fantasy_name',\n",
        "    'Plot' : 'https://randomall.ru/api/general/plot',\n",
        "    'Saying' : 'https://randstuff.ru/saying/generate/',\n",
        "}"
      ],
      "metadata": {
        "id": "xAG00GPTq7cG"
      },
      "execution_count": null,
      "outputs": []
    },
    {
      "cell_type": "markdown",
      "source": [
        "# Импорты"
      ],
      "metadata": {
        "id": "48ugX7n2q-41"
      }
    },
    {
      "cell_type": "code",
      "source": [
        "!pip install PyTelegramBotAPI"
      ],
      "metadata": {
        "colab": {
          "base_uri": "https://localhost:8080/"
        },
        "id": "oTE155FS36of",
        "outputId": "86b32647-58b7-471c-cc0e-2b8787e02fcd"
      },
      "execution_count": null,
      "outputs": [
        {
          "output_type": "stream",
          "name": "stdout",
          "text": [
            "Looking in indexes: https://pypi.org/simple, https://us-python.pkg.dev/colab-wheels/public/simple/\n",
            "Collecting PyTelegramBotAPI\n",
            "  Downloading pyTelegramBotAPI-4.8.0.tar.gz (217 kB)\n",
            "\u001b[K     |████████████████████████████████| 217 kB 12.6 MB/s \n",
            "\u001b[?25hRequirement already satisfied: requests in /usr/local/lib/python3.8/dist-packages (from PyTelegramBotAPI) (2.23.0)\n",
            "Requirement already satisfied: certifi>=2017.4.17 in /usr/local/lib/python3.8/dist-packages (from requests->PyTelegramBotAPI) (2022.12.7)\n",
            "Requirement already satisfied: chardet<4,>=3.0.2 in /usr/local/lib/python3.8/dist-packages (from requests->PyTelegramBotAPI) (3.0.4)\n",
            "Requirement already satisfied: idna<3,>=2.5 in /usr/local/lib/python3.8/dist-packages (from requests->PyTelegramBotAPI) (2.10)\n",
            "Requirement already satisfied: urllib3!=1.25.0,!=1.25.1,<1.26,>=1.21.1 in /usr/local/lib/python3.8/dist-packages (from requests->PyTelegramBotAPI) (1.24.3)\n",
            "Building wheels for collected packages: PyTelegramBotAPI\n",
            "  Building wheel for PyTelegramBotAPI (setup.py) ... \u001b[?25l\u001b[?25hdone\n",
            "  Created wheel for PyTelegramBotAPI: filename=pyTelegramBotAPI-4.8.0-py3-none-any.whl size=200125 sha256=7ef0ee5c1050ffa55a1e41a773927807082de5484375ea9537b692feb257010d\n",
            "  Stored in directory: /root/.cache/pip/wheels/c2/05/70/8409792e663e67a70e057df1f18d070105c1c457b3f410bbb0\n",
            "Successfully built PyTelegramBotAPI\n",
            "Installing collected packages: PyTelegramBotAPI\n",
            "Successfully installed PyTelegramBotAPI-4.8.0\n"
          ]
        }
      ]
    },
    {
      "cell_type": "code",
      "source": [
        "import requests\n",
        "import telebot\n",
        "from telebot import types\n",
        "from requests.structures import CaseInsensitiveDict"
      ],
      "metadata": {
        "id": "fKtO1Q6s52_b"
      },
      "execution_count": null,
      "outputs": []
    },
    {
      "cell_type": "markdown",
      "source": [
        "# Бот"
      ],
      "metadata": {
        "id": "6hzGt41qIa32"
      }
    },
    {
      "cell_type": "code",
      "source": [
        "bot = telebot.TeleBot(API_KEY)"
      ],
      "metadata": {
        "id": "ksKYV5fK1UHc"
      },
      "execution_count": null,
      "outputs": []
    },
    {
      "cell_type": "markdown",
      "source": [
        "# Команды бота"
      ],
      "metadata": {
        "id": "ThwVAcwsrVlr"
      }
    },
    {
      "cell_type": "code",
      "source": [
        "@bot.message_handler(commands=['start'])\n",
        "def start(message):\n",
        "  bot.send_message(message.chat.id, 'Бот-генератор (почти). Используй /comands чтобы увидеть список команд')\n",
        "\n",
        "\n",
        "@bot.message_handler(commands=['comands'])\n",
        "def comands(message):\n",
        "  out = '/plot - идея для сюжета\\n/name - странное имя\\n/saying - мудрость'\n",
        "  bot.send_message(message.chat.id, out)\n",
        "\n",
        "\n",
        "@bot.message_handler(commands=['plot'])\n",
        "def plot(message):\n",
        "  r = requests.post(POST_URLS['Plot'])\n",
        "  bot.send_message(message.chat.id, r.text)\n",
        "\n",
        "\n",
        "@bot.message_handler(commands=['name'])\n",
        "def fantasy_name(message):\n",
        "  r = requests.post(POST_URLS['Fantasy Name'])\n",
        "  out = list(map(str.strip, r.text.replace('<br>', ' ').replace('\"','').replace('  ', ' ') .split(' ')))\n",
        "  try:\n",
        "    bot.send_message(message.chat.id, out[0])#'\\n'.join(out))\n",
        "  except:\n",
        "    bot.send_message(message.chat.id, out[1])\n",
        "\n",
        "\n",
        "@bot.message_handler(commands=['saying'])\n",
        "def saying(message):\n",
        "  headers = CaseInsensitiveDict()\n",
        "  headers[\"x-requested-with\"] = \"XMLHttpRequest\"\n",
        "  r = requests.post(POST_URLS['Saying'], headers=headers).json()['saying']\n",
        "  saying = r['text']\n",
        "  author = r['author']\n",
        "  out = saying + '\\n(c) ' + author\n",
        "  bot.send_message(message.chat.id, out)"
      ],
      "metadata": {
        "id": "-C-inXcgrYdk"
      },
      "execution_count": null,
      "outputs": []
    },
    {
      "cell_type": "markdown",
      "source": [
        "# Процесс бота"
      ],
      "metadata": {
        "id": "H_Zdkwm7rPqZ"
      }
    },
    {
      "cell_type": "code",
      "source": [
        "bot.polling(none_stop=True)"
      ],
      "metadata": {
        "id": "Ej8zPoOlGBRA"
      },
      "execution_count": null,
      "outputs": []
    }
  ]
}